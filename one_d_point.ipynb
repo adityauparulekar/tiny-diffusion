{
 "cells": [
  {
   "cell_type": "code",
   "execution_count": 22,
   "id": "490cb53b-3eb4-49ff-b101-241ee7de7fec",
   "metadata": {},
   "outputs": [],
   "source": [
    "import math\n",
    "\n",
    "import matplotlib.pyplot as plt\n",
    "import numpy as np\n",
    "import torch\n",
    "from tqdm.auto import tqdm\n",
    "from scipy.stats import norm\n",
    "import matplotlib as mpl\n",
    "mpl.use(\"TkAgg\")\n",
    "import ddpm\n",
    "import datasets"
   ]
  },
  {
   "cell_type": "code",
   "execution_count": 23,
   "id": "17772673-bcac-4079-95cd-a2ae435e7c20",
   "metadata": {},
   "outputs": [],
   "source": [
    "sizes = list(range(1300, 5000, 400))\n",
    "sizes = [1300, 1700, 2100]\n",
    "sizes = [2500]\n",
    "names = [f\"point_1d{s}\" for s in sizes]"
   ]
  },
  {
   "cell_type": "code",
   "execution_count": 24,
   "id": "7a886df7-a87f-46a4-a911-c5bcf40cd783",
   "metadata": {
    "scrolled": true
   },
   "outputs": [
    {
     "name": "stdout",
     "output_type": "stream",
     "text": [
      "2500\n",
      "sMIN GAMMA tensor(4.3165e-06, dtype=torch.float64) LEN 50\n",
      "Training model 0...\n",
      "END LOSS WAS 0.7904228160643548\n",
      "Saving model...\n",
      "Training model 1...\n",
      "END LOSS WAS 0.9619184204891211\n",
      "Saving model...\n",
      "Training model 2...\n",
      "END LOSS WAS 0.7841194233993087\n",
      "Saving model...\n",
      "Training model 3...\n",
      "END LOSS WAS 0.7899011020909297\n",
      "Saving model...\n",
      "Training model 4...\n",
      "END LOSS WAS 1.419254871508043\n",
      "Saving model...\n",
      "Training model 5...\n",
      "END LOSS WAS 0.44902069010219103\n",
      "Saving model...\n",
      "Training model 6...\n",
      "END LOSS WAS 0.4085136009128901\n",
      "Saving model...\n",
      "Training model 7...\n",
      "END LOSS WAS 0.17906562695219597\n",
      "Saving model...\n",
      "Training model 8...\n",
      "END LOSS WAS 0.0013621787821117208\n",
      "Saving model...\n",
      "Training model 9...\n",
      "END LOSS WAS 0.008133978391982084\n",
      "Saving model...\n",
      "Training model 10...\n",
      "END LOSS WAS 0.025939876999114556\n",
      "Saving model...\n",
      "Training model 11...\n",
      "END LOSS WAS 0.035207026760656714\n",
      "Saving model...\n",
      "Training model 12...\n",
      "END LOSS WAS 0.015552954958675865\n",
      "Saving model...\n",
      "Training model 13...\n",
      "END LOSS WAS 0.003853889566074857\n",
      "Saving model...\n",
      "Training model 14...\n",
      "END LOSS WAS 1.765879364903536e-06\n",
      "Saving model...\n",
      "Training model 15...\n",
      "END LOSS WAS 1.8091897310458123e-06\n",
      "Saving model...\n",
      "Training model 16...\n",
      "END LOSS WAS 0.001205960051996521\n",
      "Saving model...\n",
      "Training model 17...\n",
      "END LOSS WAS 0.0002676069678866639\n",
      "Saving model...\n",
      "Training model 18...\n",
      "END LOSS WAS 2.7586626949194288e-06\n",
      "Saving model...\n",
      "Training model 19...\n",
      "END LOSS WAS 1.4151184237052667e-05\n",
      "Saving model...\n",
      "Training model 20...\n",
      "END LOSS WAS 4.3070106231213245e-05\n",
      "Saving model...\n",
      "Training model 21...\n",
      "END LOSS WAS 4.448019408322677e-06\n",
      "Saving model...\n",
      "Training model 22...\n",
      "END LOSS WAS 3.980989432098364e-06\n",
      "Saving model...\n",
      "Training model 23...\n",
      "END LOSS WAS 1.6227504072530131e-06\n",
      "Saving model...\n",
      "Training model 24...\n",
      "END LOSS WAS 0.0004572195831243984\n",
      "Saving model...\n",
      "Training model 25...\n",
      "END LOSS WAS 2.062594850348371e-05\n",
      "Saving model...\n",
      "Training model 26...\n",
      "END LOSS WAS 0.000541176557100128\n",
      "Saving model...\n",
      "Training model 27...\n",
      "END LOSS WAS 1.2716275894133451e-05\n",
      "Saving model...\n",
      "Training model 28...\n",
      "END LOSS WAS 0.00019777044116263916\n",
      "Saving model...\n",
      "Training model 29...\n",
      "END LOSS WAS 1.3159898413020855e-06\n",
      "Saving model...\n",
      "Training model 30...\n",
      "END LOSS WAS 0.0003590906844358864\n",
      "Saving model...\n",
      "Training model 31...\n",
      "END LOSS WAS 0.003963916137102622\n",
      "Saving model...\n",
      "Training model 32...\n",
      "END LOSS WAS 9.964702269202314e-05\n",
      "Saving model...\n",
      "Training model 33...\n",
      "END LOSS WAS 1.950282713273214e-05\n",
      "Saving model...\n",
      "Training model 34...\n",
      "END LOSS WAS 0.005435444161401813\n",
      "Saving model...\n",
      "Training model 35...\n",
      "END LOSS WAS 4.80442960075456e-05\n",
      "Saving model...\n",
      "Training model 36...\n",
      "END LOSS WAS 0.00011825003020309368\n",
      "Saving model...\n",
      "Training model 37...\n",
      "END LOSS WAS 0.00014225768600156866\n",
      "Saving model...\n",
      "Training model 38...\n",
      "END LOSS WAS 2.010159743716747e-05\n",
      "Saving model...\n",
      "Training model 39...\n",
      "END LOSS WAS 0.00010852830682919023\n",
      "Saving model...\n",
      "Training model 40...\n",
      "END LOSS WAS 7.135751174270683e-05\n",
      "Saving model...\n",
      "Training model 41...\n",
      "END LOSS WAS 4.939294359774673e-05\n",
      "Saving model...\n",
      "Training model 42...\n",
      "END LOSS WAS 1.6700417794510298e-05\n",
      "Saving model...\n",
      "Training model 43...\n",
      "END LOSS WAS 3.835139639878491e-06\n",
      "Saving model...\n",
      "Training model 44...\n",
      "END LOSS WAS 2.755574389902287e-05\n",
      "Saving model...\n",
      "Training model 45...\n",
      "END LOSS WAS 0.00014774079814779963\n",
      "Saving model...\n",
      "Training model 46...\n",
      "END LOSS WAS 0.00015278756350354383\n",
      "Saving model...\n",
      "Training model 47...\n",
      "END LOSS WAS 9.407872898201393e-05\n",
      "Saving model...\n",
      "Training model 48...\n",
      "END LOSS WAS 0.002200767022267614\n",
      "Saving model...\n",
      "Training model 49...\n",
      "END LOSS WAS 0.00010783579024890359\n",
      "Saving model...\n",
      "Saving loss as numpy array...\n"
     ]
    }
   ],
   "source": [
    "for i in range(len(sizes)):\n",
    "    print(sizes[i])\n",
    "    !python ddpm.py --dataset point1d --experiment_name {names[i]} --num_epochs 70 --dataset_size {sizes[i]} --dimension 1 --beta_schedule ours --num_timesteps 1000"
   ]
  },
  {
   "cell_type": "code",
   "execution_count": 29,
   "id": "074d1abf-9bd3-4f20-90f5-804fe97345a1",
   "metadata": {},
   "outputs": [],
   "source": [
    "def calculate_stats(model_dir, dataset='point', score='model'):\n",
    "    num_scheduler_timesteps = 1000\n",
    "    noise_scheduler = ddpm.NoiseScheduler(num_timesteps=num_scheduler_timesteps, beta_schedule='ours')\n",
    "    print(len(noise_scheduler.times))\n",
    "    num_timesteps = len(noise_scheduler)\n",
    "    device = torch.device(\"cuda\" if torch.cuda.is_available() else \"cpu\")\n",
    "    models = [ddpm.MLP(input_dim=1) for _ in range(num_timesteps)]\n",
    "    for t in range(num_timesteps):\n",
    "        path = model_dir + f\"/model{t}.pth\"\n",
    "        models[t].load_state_dict(torch.load(path))\n",
    "        models[t].to(device)\n",
    "        models[t].eval()\n",
    "    eval_batch_size = 10000\n",
    "    plot_step = 1\n",
    "    num_timesteps = len(noise_scheduler.betas)\n",
    "    curr_vars = torch.sqrt(1 - torch.exp(-2 * noise_scheduler.times))\n",
    "    sample = torch.randn(eval_batch_size*2, 1).to(device)[eval_batch_size:, :]\n",
    "    timesteps = list(range(num_timesteps))[::-1][:-1]\n",
    "    samples = []\n",
    "    steps = []\n",
    "    for i, t in enumerate(tqdm(timesteps)):\n",
    "        t_int = t\n",
    "        t = torch.from_numpy(np.repeat(t, eval_batch_size)).long().to(device)\n",
    "        with torch.no_grad():\n",
    "            variance = torch.sqrt(1 - noise_scheduler.alphas_cumprod[t])\n",
    "            v = curr_vars[t].cpu().numpy()\n",
    "            if score == 'model':\n",
    "                residual = models[t_int](sample, t)\n",
    "            else:\n",
    "                residual = sample / variance\n",
    "        sample = noise_scheduler.step(residual, t[0], sample)\n",
    "        if (i + 1) % plot_step == 0:\n",
    "            sample_cpu = sample.cpu()\n",
    "            samples.append(sample_cpu.numpy())\n",
    "            steps.append(i + 1)\n",
    "    if dataset == 'ret':\n",
    "        return samples\n",
    "    elif dataset == 'square':\n",
    "        return process_point(samples[-1], mode='median')\n",
    "    elif dataset == 'point':\n",
    "        m = process_point(samples[-1], mode='median')\n",
    "        # print(\"SCORE AT MEAN\", models[0](torch.tensor([[m]], device=device), device=device))\n",
    "        return process_point(samples[-1], mode='median')\n",
    "    else:\n",
    "        raise ValueError(\"INVALID DATASET\")\n",
    "\n",
    "def process_square(samples, r=3):\n",
    "    t = 0\n",
    "    d = []\n",
    "    for s in samples:\n",
    "        dists = [abs(s[0] - r), abs(s[0] + r), abs(s[1] - r), abs(s[1] + r)]\n",
    "        m = min(dists)\n",
    "        d.append(m)\n",
    "    # d = sorted(d)[:-round(len(d)*0.02)]\n",
    "    if mode == 'median':\n",
    "        return sorted(d)[len(d)//2]\n",
    "    for m in d:\n",
    "        t += m**2\n",
    "    t /= len(d)\n",
    "    return np.sqrt(t)\n",
    "def process_point(samples, mode='median'):\n",
    "    return np.median(samples.squeeze())\n",
    "    # print(\"MEAN\", )\n",
    "    # return np.median(samples.squeeze())\n",
    "    # centered = samples.squeeze() - np.mean(samples.squeeze())\n",
    "    # print(np.mean(samples.squeeze()))\n",
    "    # return np.median(centered)"
   ]
  },
  {
   "cell_type": "code",
   "execution_count": 30,
   "id": "a92977cc-20b5-4679-ac33-c41820621ba8",
   "metadata": {
    "scrolled": true
   },
   "outputs": [
    {
     "name": "stdout",
     "output_type": "stream",
     "text": [
      "2500 point_1d2500\n",
      "sMIN GAMMA tensor(4.3165e-06, dtype=torch.float64) LEN 50\n",
      "50\n"
     ]
    },
    {
     "data": {
      "application/vnd.jupyter.widget-view+json": {
       "model_id": "b87e09fc2f89495d9dc50f8e8af1a5ee",
       "version_major": 2,
       "version_minor": 0
      },
      "text/plain": [
       "  0%|          | 0/49 [00:00<?, ?it/s]"
      ]
     },
     "metadata": {},
     "output_type": "display_data"
    },
    {
     "name": "stdout",
     "output_type": "stream",
     "text": [
      "[9.869145078009969e-06]\n"
     ]
    }
   ],
   "source": [
    "s = []\n",
    "for i in range(len(sizes)):\n",
    "    print(sizes[i], names[i])\n",
    "    s.append(np.abs(calculate_stats(f\"exps/{names[i]}\", dataset='square', score='model')))\n",
    "print(s)\n",
    "plt.clf()\n",
    "plt.scatter(sizes, np.array(s))\n",
    "plt.yscale('log')\n",
    "plt.title(\"median error vs dataset size\")\n",
    "plt.ylabel(\"median error\")\n",
    "plt.xlabel(\"dataset size\")\n",
    "plt.savefig(f'static/devs_point.png', bbox_inches='tight')\n",
    "\n",
    "plt.show()"
   ]
  },
  {
   "cell_type": "code",
   "execution_count": 12,
   "id": "f6fc1cc6-e44c-41db-a93f-f6c9fbcfa48a",
   "metadata": {
    "scrolled": true
   },
   "outputs": [
    {
     "name": "stdout",
     "output_type": "stream",
     "text": [
      "100 point_1d_100\n",
      "sMIN GAMMA tensor(4.3165e-06, dtype=torch.float64) LEN 50\n",
      "50\n",
      "torch.Size([100000, 1])\n",
      "[49, 48, 47, 46, 45, 44, 43, 42, 41, 40, 39, 38, 37, 36, 35, 34, 33, 32, 31, 30, 29, 28, 27, 26, 25, 24, 23, 22, 21, 20, 19, 18, 17, 16, 15, 14, 13, 12, 11, 10, 9, 8, 7, 6, 5, 4, 3, 2, 1, 0]\n"
     ]
    },
    {
     "data": {
      "application/vnd.jupyter.widget-view+json": {
       "model_id": "b5a3c8500f9241329f96cc141c7df5b5",
       "version_major": 2,
       "version_minor": 0
      },
      "text/plain": [
       "  0%|          | 0/50 [00:00<?, ?it/s]"
      ]
     },
     "metadata": {},
     "output_type": "display_data"
    },
    {
     "name": "stdout",
     "output_type": "stream",
     "text": [
      "500 point_1d_500\n",
      "sMIN GAMMA tensor(4.3165e-06, dtype=torch.float64) LEN 50\n",
      "50\n",
      "torch.Size([100000, 1])\n",
      "[49, 48, 47, 46, 45, 44, 43, 42, 41, 40, 39, 38, 37, 36, 35, 34, 33, 32, 31, 30, 29, 28, 27, 26, 25, 24, 23, 22, 21, 20, 19, 18, 17, 16, 15, 14, 13, 12, 11, 10, 9, 8, 7, 6, 5, 4, 3, 2, 1, 0]\n"
     ]
    },
    {
     "data": {
      "application/vnd.jupyter.widget-view+json": {
       "model_id": "6686e6c9c0314ee89b877f70776de21d",
       "version_major": 2,
       "version_minor": 0
      },
      "text/plain": [
       "  0%|          | 0/50 [00:00<?, ?it/s]"
      ]
     },
     "metadata": {},
     "output_type": "display_data"
    },
    {
     "name": "stdout",
     "output_type": "stream",
     "text": [
      "900 point_1d_900\n",
      "sMIN GAMMA tensor(4.3165e-06, dtype=torch.float64) LEN 50\n",
      "50\n",
      "torch.Size([100000, 1])\n",
      "[49, 48, 47, 46, 45, 44, 43, 42, 41, 40, 39, 38, 37, 36, 35, 34, 33, 32, 31, 30, 29, 28, 27, 26, 25, 24, 23, 22, 21, 20, 19, 18, 17, 16, 15, 14, 13, 12, 11, 10, 9, 8, 7, 6, 5, 4, 3, 2, 1, 0]\n"
     ]
    },
    {
     "data": {
      "application/vnd.jupyter.widget-view+json": {
       "model_id": "a9f41c94786a4c34af2395fcb7f571bd",
       "version_major": 2,
       "version_minor": 0
      },
      "text/plain": [
       "  0%|          | 0/50 [00:00<?, ?it/s]"
      ]
     },
     "metadata": {},
     "output_type": "display_data"
    },
    {
     "name": "stdout",
     "output_type": "stream",
     "text": [
      "1300 point_1d_1300\n",
      "sMIN GAMMA tensor(4.3165e-06, dtype=torch.float64) LEN 50\n",
      "50\n",
      "torch.Size([100000, 1])\n",
      "[49, 48, 47, 46, 45, 44, 43, 42, 41, 40, 39, 38, 37, 36, 35, 34, 33, 32, 31, 30, 29, 28, 27, 26, 25, 24, 23, 22, 21, 20, 19, 18, 17, 16, 15, 14, 13, 12, 11, 10, 9, 8, 7, 6, 5, 4, 3, 2, 1, 0]\n"
     ]
    },
    {
     "data": {
      "application/vnd.jupyter.widget-view+json": {
       "model_id": "9dde8a67a9c442a7be7617ec29782e46",
       "version_major": 2,
       "version_minor": 0
      },
      "text/plain": [
       "  0%|          | 0/50 [00:00<?, ?it/s]"
      ]
     },
     "metadata": {},
     "output_type": "display_data"
    },
    {
     "name": "stdout",
     "output_type": "stream",
     "text": [
      "1700 point_1d_1700\n",
      "sMIN GAMMA tensor(4.3165e-06, dtype=torch.float64) LEN 50\n",
      "50\n",
      "torch.Size([100000, 1])\n",
      "[49, 48, 47, 46, 45, 44, 43, 42, 41, 40, 39, 38, 37, 36, 35, 34, 33, 32, 31, 30, 29, 28, 27, 26, 25, 24, 23, 22, 21, 20, 19, 18, 17, 16, 15, 14, 13, 12, 11, 10, 9, 8, 7, 6, 5, 4, 3, 2, 1, 0]\n"
     ]
    },
    {
     "data": {
      "application/vnd.jupyter.widget-view+json": {
       "model_id": "3967a3d753f3494a9ccad2b012ec9d1a",
       "version_major": 2,
       "version_minor": 0
      },
      "text/plain": [
       "  0%|          | 0/50 [00:00<?, ?it/s]"
      ]
     },
     "metadata": {},
     "output_type": "display_data"
    },
    {
     "name": "stdout",
     "output_type": "stream",
     "text": [
      "2100 point_1d_2100\n",
      "sMIN GAMMA tensor(4.3165e-06, dtype=torch.float64) LEN 50\n",
      "50\n",
      "torch.Size([100000, 1])\n",
      "[49, 48, 47, 46, 45, 44, 43, 42, 41, 40, 39, 38, 37, 36, 35, 34, 33, 32, 31, 30, 29, 28, 27, 26, 25, 24, 23, 22, 21, 20, 19, 18, 17, 16, 15, 14, 13, 12, 11, 10, 9, 8, 7, 6, 5, 4, 3, 2, 1, 0]\n"
     ]
    },
    {
     "data": {
      "application/vnd.jupyter.widget-view+json": {
       "model_id": "2d07eb01f16a4d9ca0ca57c25962a06c",
       "version_major": 2,
       "version_minor": 0
      },
      "text/plain": [
       "  0%|          | 0/50 [00:00<?, ?it/s]"
      ]
     },
     "metadata": {},
     "output_type": "display_data"
    },
    {
     "name": "stdout",
     "output_type": "stream",
     "text": [
      "2500 point_1d_2500\n",
      "sMIN GAMMA tensor(4.3165e-06, dtype=torch.float64) LEN 50\n",
      "50\n",
      "torch.Size([100000, 1])\n",
      "[49, 48, 47, 46, 45, 44, 43, 42, 41, 40, 39, 38, 37, 36, 35, 34, 33, 32, 31, 30, 29, 28, 27, 26, 25, 24, 23, 22, 21, 20, 19, 18, 17, 16, 15, 14, 13, 12, 11, 10, 9, 8, 7, 6, 5, 4, 3, 2, 1, 0]\n"
     ]
    },
    {
     "data": {
      "application/vnd.jupyter.widget-view+json": {
       "model_id": "db3dd3db820f462fad42378baa6b6967",
       "version_major": 2,
       "version_minor": 0
      },
      "text/plain": [
       "  0%|          | 0/50 [00:00<?, ?it/s]"
      ]
     },
     "metadata": {},
     "output_type": "display_data"
    },
    {
     "name": "stdout",
     "output_type": "stream",
     "text": [
      "2900 point_1d_2900\n",
      "sMIN GAMMA tensor(4.3165e-06, dtype=torch.float64) LEN 50\n",
      "50\n",
      "torch.Size([100000, 1])\n",
      "[49, 48, 47, 46, 45, 44, 43, 42, 41, 40, 39, 38, 37, 36, 35, 34, 33, 32, 31, 30, 29, 28, 27, 26, 25, 24, 23, 22, 21, 20, 19, 18, 17, 16, 15, 14, 13, 12, 11, 10, 9, 8, 7, 6, 5, 4, 3, 2, 1, 0]\n"
     ]
    },
    {
     "data": {
      "application/vnd.jupyter.widget-view+json": {
       "model_id": "3df558b90050447f98d6cb2d4d3e407a",
       "version_major": 2,
       "version_minor": 0
      },
      "text/plain": [
       "  0%|          | 0/50 [00:00<?, ?it/s]"
      ]
     },
     "metadata": {},
     "output_type": "display_data"
    },
    {
     "name": "stdout",
     "output_type": "stream",
     "text": [
      "3300 point_1d_3300\n",
      "sMIN GAMMA tensor(4.3165e-06, dtype=torch.float64) LEN 50\n",
      "50\n",
      "torch.Size([100000, 1])\n",
      "[49, 48, 47, 46, 45, 44, 43, 42, 41, 40, 39, 38, 37, 36, 35, 34, 33, 32, 31, 30, 29, 28, 27, 26, 25, 24, 23, 22, 21, 20, 19, 18, 17, 16, 15, 14, 13, 12, 11, 10, 9, 8, 7, 6, 5, 4, 3, 2, 1, 0]\n"
     ]
    },
    {
     "data": {
      "application/vnd.jupyter.widget-view+json": {
       "model_id": "f48268f6ae574074b40784d13a4f9652",
       "version_major": 2,
       "version_minor": 0
      },
      "text/plain": [
       "  0%|          | 0/50 [00:00<?, ?it/s]"
      ]
     },
     "metadata": {},
     "output_type": "display_data"
    },
    {
     "name": "stdout",
     "output_type": "stream",
     "text": [
      "3700 point_1d_3700\n",
      "sMIN GAMMA tensor(4.3165e-06, dtype=torch.float64) LEN 50\n",
      "50\n",
      "torch.Size([100000, 1])\n",
      "[49, 48, 47, 46, 45, 44, 43, 42, 41, 40, 39, 38, 37, 36, 35, 34, 33, 32, 31, 30, 29, 28, 27, 26, 25, 24, 23, 22, 21, 20, 19, 18, 17, 16, 15, 14, 13, 12, 11, 10, 9, 8, 7, 6, 5, 4, 3, 2, 1, 0]\n"
     ]
    },
    {
     "data": {
      "application/vnd.jupyter.widget-view+json": {
       "model_id": "b4a99ba39055401caff02e87aa37348e",
       "version_major": 2,
       "version_minor": 0
      },
      "text/plain": [
       "  0%|          | 0/50 [00:00<?, ?it/s]"
      ]
     },
     "metadata": {},
     "output_type": "display_data"
    },
    {
     "name": "stdout",
     "output_type": "stream",
     "text": [
      "4100 point_1d_4100\n",
      "sMIN GAMMA tensor(4.3165e-06, dtype=torch.float64) LEN 50\n",
      "50\n",
      "torch.Size([100000, 1])\n",
      "[49, 48, 47, 46, 45, 44, 43, 42, 41, 40, 39, 38, 37, 36, 35, 34, 33, 32, 31, 30, 29, 28, 27, 26, 25, 24, 23, 22, 21, 20, 19, 18, 17, 16, 15, 14, 13, 12, 11, 10, 9, 8, 7, 6, 5, 4, 3, 2, 1, 0]\n"
     ]
    },
    {
     "data": {
      "application/vnd.jupyter.widget-view+json": {
       "model_id": "83e4a0b8e7124154ae4826564a0e3d0e",
       "version_major": 2,
       "version_minor": 0
      },
      "text/plain": [
       "  0%|          | 0/50 [00:00<?, ?it/s]"
      ]
     },
     "metadata": {},
     "output_type": "display_data"
    },
    {
     "name": "stdout",
     "output_type": "stream",
     "text": [
      "4500 point_1d_4500\n",
      "sMIN GAMMA tensor(4.3165e-06, dtype=torch.float64) LEN 50\n",
      "50\n",
      "torch.Size([100000, 1])\n",
      "[49, 48, 47, 46, 45, 44, 43, 42, 41, 40, 39, 38, 37, 36, 35, 34, 33, 32, 31, 30, 29, 28, 27, 26, 25, 24, 23, 22, 21, 20, 19, 18, 17, 16, 15, 14, 13, 12, 11, 10, 9, 8, 7, 6, 5, 4, 3, 2, 1, 0]\n"
     ]
    },
    {
     "data": {
      "application/vnd.jupyter.widget-view+json": {
       "model_id": "0163dd48b7cf4558b412798b021aff56",
       "version_major": 2,
       "version_minor": 0
      },
      "text/plain": [
       "  0%|          | 0/50 [00:00<?, ?it/s]"
      ]
     },
     "metadata": {},
     "output_type": "display_data"
    },
    {
     "name": "stdout",
     "output_type": "stream",
     "text": [
      "4900 point_1d_4900\n",
      "sMIN GAMMA tensor(4.3165e-06, dtype=torch.float64) LEN 50\n",
      "50\n",
      "torch.Size([100000, 1])\n",
      "[49, 48, 47, 46, 45, 44, 43, 42, 41, 40, 39, 38, 37, 36, 35, 34, 33, 32, 31, 30, 29, 28, 27, 26, 25, 24, 23, 22, 21, 20, 19, 18, 17, 16, 15, 14, 13, 12, 11, 10, 9, 8, 7, 6, 5, 4, 3, 2, 1, 0]\n"
     ]
    },
    {
     "data": {
      "application/vnd.jupyter.widget-view+json": {
       "model_id": "42dc0d5126884d04adbd9edd0fc1df87",
       "version_major": 2,
       "version_minor": 0
      },
      "text/plain": [
       "  0%|          | 0/50 [00:00<?, ?it/s]"
      ]
     },
     "metadata": {},
     "output_type": "display_data"
    },
    {
     "name": "stdout",
     "output_type": "stream",
     "text": [
      "[0.22580300421758892, 0.005846942787256269, 0.00625606872608015, 0.0002929405931876405, 0.0023586053415945193, 0.0018379001564902096, 0.0032048560584663727, 0.002909046204849555, 0.0001022496828747902, 0.001387017701437943, 0.0001644522932970577, 0.0006371301944660385, 0.0020390610085395]\n"
     ]
    }
   ],
   "source": [
    "s = []\n",
    "for i in range(len(sizes)):\n",
    "    print(sizes[i], names[i])\n",
    "    s.append(np.abs(calculate_stats(f\"exps/{names[i]}\", dataset='point', score='true')))\n",
    "print(s)\n",
    "plt.clf()\n",
    "plt.scatter(sizes, np.array(s))\n",
    "plt.yscale('log')\n",
    "plt.title(\"median error vs dataset size\")\n",
    "plt.ylabel(\"median error\")\n",
    "plt.xlabel(\"dataset size\")\n",
    "plt.savefig(f'static/devs_point.png', bbox_inches='tight')\n",
    "\n",
    "plt.show()"
   ]
  },
  {
   "cell_type": "code",
   "execution_count": 9,
   "id": "9c9aec51-0182-40f6-af6a-518dbed64a6d",
   "metadata": {},
   "outputs": [
    {
     "name": "stdout",
     "output_type": "stream",
     "text": [
      "point_1d2100\n",
      "sMIN GAMMA tensor(4.3165e-06, dtype=torch.float64) LEN 50\n"
     ]
    }
   ],
   "source": [
    "print(names[-1])\n",
    "model_dir = f\"exps/{names[-1]}\"\n",
    "device = torch.device(\"cuda\" if torch.cuda.is_available() else \"cpu\")\n",
    "noise_scheduler = ddpm.NoiseScheduler(num_timesteps=1000, beta_schedule='ours')\n",
    "num_timesteps = len(noise_scheduler.times)\n",
    "models = [ddpm.MLP(input_dim=1) for _ in range(num_timesteps)]\n",
    "for t in range(num_timesteps):\n",
    "    path = model_dir + f\"/model{t}.pth\"\n",
    "    models[t].load_state_dict(torch.load(path))\n",
    "    models[t].to(device)\n",
    "    models[t].eval()"
   ]
  },
  {
   "cell_type": "code",
   "execution_count": 10,
   "id": "19966cfd-1f5a-4ae6-9e6d-e980a6a3e013",
   "metadata": {},
   "outputs": [
    {
     "name": "stdout",
     "output_type": "stream",
     "text": [
      "7.73468595888991e-06\n"
     ]
    }
   ],
   "source": [
    "curr_stds = torch.sqrt(1 - torch.exp(-2 * noise_scheduler.times))\n",
    "t = 1\n",
    "v = curr_stds[t].item()\n",
    "print(v)\n",
    "x_scale = np.linspace(-v * 5, v * 5, 1000)\n",
    "# x_scale = np.linspace(-10, 10, 1000)\n",
    "inputs = torch.tensor(x_scale, device=device).unsqueeze(1)\n",
    "times = torch.ones(len(inputs)).to(device) * t\n",
    "model_residuals = models[t](inputs, times)\n",
    "true_residuals = inputs / v"
   ]
  },
  {
   "cell_type": "code",
   "execution_count": 11,
   "id": "e9084b4e-6f81-478c-ab30-8c05d17438c6",
   "metadata": {},
   "outputs": [],
   "source": [
    "plt.plot(x_scale, model_residuals.data.cpu().numpy(), label='model')\n",
    "plt.plot(x_scale, true_residuals.data.cpu().numpy(), label='true')\n",
    "for y in (np.arange(11)-5)*v:\n",
    "    plt.axvline(y, alpha=1 if y == 0 else 0.2)\n",
    "plt.legend()\n",
    "plt.savefig(\"score.png\")\n",
    "plt.show()"
   ]
  },
  {
   "cell_type": "code",
   "execution_count": 19,
   "id": "d07e3bc9-fe05-44ba-9378-a636c48ed259",
   "metadata": {},
   "outputs": [
    {
     "name": "stdout",
     "output_type": "stream",
     "text": [
      "0\n",
      "[3.47192889e-22]\n",
      "1\n",
      "[9.51978681e-21]\n",
      "2\n",
      "[1.17412671e-22]\n",
      "3\n",
      "[5.12170362e-21]\n",
      "4\n",
      "[1.29290347e-20]\n",
      "5\n",
      "[1.62810439e-20]\n",
      "6\n",
      "[3.08192374e-19]\n",
      "7\n",
      "[9.88568862e-19]\n",
      "8\n",
      "[5.68421272e-20]\n",
      "9\n",
      "[8.46656761e-22]\n",
      "10\n",
      "[4.3766878e-21]\n",
      "11\n",
      "[1.70555658e-16]\n",
      "12\n",
      "[2.08086225e-15]\n",
      "13\n",
      "[1.5645525e-14]\n",
      "14\n",
      "[2.36461162e-14]\n",
      "15\n",
      "[1.61084977e-15]\n",
      "16\n",
      "[2.71470376e-16]\n",
      "17\n",
      "[2.75057039e-15]\n",
      "18\n",
      "[4.97358914e-14]\n",
      "19\n",
      "[5.63298972e-13]\n",
      "20\n",
      "[2.02711878e-10]\n",
      "21\n",
      "[2.77407705e-11]\n",
      "22\n",
      "[1.27654733e-09]\n",
      "23\n",
      "[6.19178477e-10]\n",
      "24\n",
      "[1.22727453e-09]\n",
      "25\n",
      "[1.05412133e-08]\n",
      "26\n",
      "[4.83867935e-07]\n",
      "27\n",
      "[1.39655499e-06]\n",
      "28\n",
      "[1.05489044e-06]\n",
      "29\n",
      "[3.81663789e-06]\n",
      "30\n",
      "[4.89464249e-06]\n",
      "31\n",
      "[0.00011548]\n",
      "32\n",
      "[0.00031512]\n",
      "33\n",
      "[0.00012894]\n",
      "34\n",
      "[0.00023664]\n",
      "35\n",
      "[0.0001182]\n",
      "36\n",
      "[0.00046972]\n",
      "37\n",
      "[0.00042685]\n",
      "38\n",
      "[0.00017074]\n",
      "39\n",
      "[0.00041509]\n",
      "40\n",
      "[0.00162259]\n",
      "41\n",
      "[0.00321515]\n",
      "42\n",
      "[0.00123136]\n",
      "43\n",
      "[0.00029006]\n",
      "44\n",
      "[0.00017282]\n",
      "45\n"
     ]
    },
    {
     "ename": "KeyboardInterrupt",
     "evalue": "",
     "output_type": "error",
     "traceback": [
      "\u001b[0;31m---------------------------------------------------------------------------\u001b[0m",
      "\u001b[0;31mKeyboardInterrupt\u001b[0m                         Traceback (most recent call last)",
      "Cell \u001b[0;32mIn[19], line 10\u001b[0m\n\u001b[1;32m      8\u001b[0m \u001b[38;5;28;01mfor\u001b[39;00m i \u001b[38;5;129;01min\u001b[39;00m x_range:\n\u001b[1;32m      9\u001b[0m     pdf \u001b[38;5;241m=\u001b[39m norm\u001b[38;5;241m.\u001b[39mpdf(i, \u001b[38;5;241m0\u001b[39m, v\u001b[38;5;241m.\u001b[39mitem())\n\u001b[0;32m---> 10\u001b[0m     model_val \u001b[38;5;241m=\u001b[39m models[t](\u001b[43mtorch\u001b[49m\u001b[38;5;241;43m.\u001b[39;49m\u001b[43mtensor\u001b[49m\u001b[43m(\u001b[49m\u001b[43m[\u001b[49m\u001b[43m[\u001b[49m\u001b[43mi\u001b[49m\u001b[43m]\u001b[49m\u001b[43m]\u001b[49m\u001b[43m,\u001b[49m\u001b[43m \u001b[49m\u001b[43mdevice\u001b[49m\u001b[38;5;241;43m=\u001b[39;49m\u001b[43mdevice\u001b[49m\u001b[43m,\u001b[49m\u001b[43m \u001b[49m\u001b[43mdtype\u001b[49m\u001b[38;5;241;43m=\u001b[39;49m\u001b[43mtorch\u001b[49m\u001b[38;5;241;43m.\u001b[39;49m\u001b[43mfloat32\u001b[49m\u001b[43m)\u001b[49m, torch\u001b[38;5;241m.\u001b[39mones(\u001b[38;5;241m1\u001b[39m, device\u001b[38;5;241m=\u001b[39mdevice, dtype\u001b[38;5;241m=\u001b[39mtorch\u001b[38;5;241m.\u001b[39mfloat32)\u001b[38;5;241m*\u001b[39mt)\n\u001b[1;32m     11\u001b[0m     true_val \u001b[38;5;241m=\u001b[39m torch\u001b[38;5;241m.\u001b[39mtensor([[i]], device\u001b[38;5;241m=\u001b[39mdevice) \u001b[38;5;241m/\u001b[39m torch\u001b[38;5;241m.\u001b[39msqrt(\u001b[38;5;241m1\u001b[39m \u001b[38;5;241m-\u001b[39m torch\u001b[38;5;241m.\u001b[39mexp(\u001b[38;5;241m-\u001b[39m\u001b[38;5;241m2\u001b[39m \u001b[38;5;241m*\u001b[39m noise_scheduler\u001b[38;5;241m.\u001b[39mtimes[t]))\n\u001b[1;32m     12\u001b[0m     error \u001b[38;5;241m=\u001b[39m (model_val\u001b[38;5;241m.\u001b[39mdata\u001b[38;5;241m.\u001b[39mcpu()\u001b[38;5;241m.\u001b[39mnumpy() \u001b[38;5;241m-\u001b[39m true_val\u001b[38;5;241m.\u001b[39mdata\u001b[38;5;241m.\u001b[39mcpu()\u001b[38;5;241m.\u001b[39mnumpy())[\u001b[38;5;241m0\u001b[39m]\n",
      "\u001b[0;31mKeyboardInterrupt\u001b[0m: "
     ]
    }
   ],
   "source": [
    "errors = []\n",
    "for t in range(50):\n",
    "    print(t)\n",
    "    v = curr_stds[t].cpu().numpy()\n",
    "    x_range = np.linspace(-v*5, v*5, 1000)\n",
    "    diff = x_range[1] - x_range[0]\n",
    "    l2 = 0\n",
    "    for i in x_range:\n",
    "        pdf = norm.pdf(i, 0, v.item())\n",
    "        model_val = models[t](torch.tensor([[i]], device=device, dtype=torch.float32), torch.ones(1, device=device, dtype=torch.float32)*t)\n",
    "        true_val = torch.tensor([[i]], device=device) / torch.sqrt(1 - torch.exp(-2 * noise_scheduler.times[t]))\n",
    "        error = (model_val.data.cpu().numpy() - true_val.data.cpu().numpy())[0]\n",
    "        l2 += (error**2)*diff*pdf\n",
    "    print(l2*(v.item()**4))\n",
    "    errors.append(l2*v.item()*v.item()*v.item()*v.item())\n",
    "print(errors)"
   ]
  },
  {
   "cell_type": "code",
   "execution_count": 96,
   "id": "bc504836-98f0-4510-9905-3ee2d4bcc2e0",
   "metadata": {},
   "outputs": [
    {
     "name": "stdout",
     "output_type": "stream",
     "text": [
      "0.6831737563750486\n"
     ]
    }
   ],
   "source": [
    "x_range = np.linspace(-10, 10, 1000)\n",
    "diff = x_range[1] - x_range[0]\n",
    "tot = 0\n",
    "for i in x_range:\n",
    "    tot += diff * norm.pdf(i, 0, 10)\n",
    "print(tot)"
   ]
  },
  {
   "cell_type": "code",
   "execution_count": 29,
   "id": "8c7a860e-5ded-47d4-9f24-af54828102c4",
   "metadata": {},
   "outputs": [
    {
     "name": "stdout",
     "output_type": "stream",
     "text": [
      "MIN GAMMA tensor(3.1610e-06, dtype=torch.float64) LEN 84\n",
      "torch.Size([84])\n"
     ]
    }
   ],
   "source": [
    "model_path = \"exps/point_1d_smallgamma7300/model.pth\"\n",
    "model = ddpm.MLP(input_dim=1)\n",
    "device = torch.device(\"cuda\" if torch.cuda.is_available() else \"cpu\")\n",
    "model.load_state_dict(torch.load(model_path))\n",
    "model.to(device)\n",
    "model.eval()\n",
    "scores = []\n",
    "inputs = torch.linspace(-10, 10, 1000).unsqueeze(1).to(device)\n",
    "noise_scheduler = ddpm.NoiseScheduler(num_timesteps=1000, beta_schedule=\"ours\")\n",
    "print(noise_scheduler.betas.shape)\n",
    "times = torch.ones(len(inputs), device=device)*9\n",
    "residuals = model(inputs, times)"
   ]
  },
  {
   "cell_type": "code",
   "execution_count": null,
   "id": "4d5a7a4d-2e41-45ee-afa2-932cdd37dac8",
   "metadata": {},
   "outputs": [],
   "source": []
  }
 ],
 "metadata": {
  "kernelspec": {
   "display_name": "Python 3 (ipykernel)",
   "language": "python",
   "name": "python3"
  },
  "language_info": {
   "codemirror_mode": {
    "name": "ipython",
    "version": 3
   },
   "file_extension": ".py",
   "mimetype": "text/x-python",
   "name": "python",
   "nbconvert_exporter": "python",
   "pygments_lexer": "ipython3",
   "version": "3.10.14"
  }
 },
 "nbformat": 4,
 "nbformat_minor": 5
}
